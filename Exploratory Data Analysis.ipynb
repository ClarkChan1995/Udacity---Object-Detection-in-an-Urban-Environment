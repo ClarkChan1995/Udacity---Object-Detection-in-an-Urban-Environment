{
 "cells": [
  {
   "cell_type": "markdown",
   "metadata": {},
   "source": [
    "# Explore the dataset\n",
    "\n",
    "\n",
    "In this notebook, we will perform an EDA (Exploratory Data Analysis) on the processed Waymo dataset (data in the `processed` folder). In the first part, you will create a function to display "
   ]
  },
  {
   "cell_type": "code",
   "execution_count": null,
   "metadata": {},
   "outputs": [],
   "source": [
    "from utils import get_dataset\n",
    "import matplotlib as plt\n",
    "import matplotlib.patches as patches\n",
    "import numpy as np\n",
    "import tensorflow as tf\n",
    "\n",
    "%matplotlic inline"
   ]
  },
  {
   "cell_type": "code",
   "execution_count": null,
   "metadata": {},
   "outputs": [],
   "source": [
    "dataset = get_dataset(\"./data/train/*.tfrecord\")"
   ]
  },
  {
   "cell_type": "markdown",
   "metadata": {},
   "source": [
    "## Write a function to display an image and the bounding boxes\n",
    "\n",
    "Implement the `display_instances` function below. This function takes a batch as an input and display an image with its corresponding bounding boxes. The only requirement is that the classes should be color coded (eg, vehicles in red, pedestrians in blue, cyclist in green)."
   ]
  },
  {
   "cell_type": "code",
   "execution_count": null,
   "metadata": {},
   "outputs": [],
   "source": [
    "def display_instances(batch):\n",
    "    \"\"\"\n",
    "    This function takes a batch from the dataset and display the image with \n",
    "    the associated bounding boxes.\n",
    "    \"\"\"\n",
    "    # ADD CODE HERE\n",
    "    # get the width, height and depth of the images\n",
    "    width, height, depth = batch['image'].shape\n",
    "\n",
    "    # get the groundtruth classes and the boxes\n",
    "    gt_class = batch['groundtruth_classes'].numpy()\n",
    "    gt_box = batch['groundtruth_boxes']     \n",
    "\n",
    "    # plot the image using matplotlib\n",
    "    fig, ax = plt.subplots(figsize=(10, 10))\n",
    "    ax.imshow(batch['image'].numpy().astype('uint8'))\n",
    "\n",
    "    # assign color for each class\n",
    "    color = {\n",
    "        1 : 'red',\n",
    "        2 : 'blue',\n",
    "        4 : 'green'\n",
    "    }\n",
    "\n",
    "    for i in range(len(gt_box)):\n",
    "        ymin, xmin, ymax, xmax = gt_box[i]\n",
    "        classes = gt_class[i]\n",
    "\n",
    "        box = patches.Rectangle((xmin * width, ymin * height), (xmax - xmin)*width, \n",
    "                                (ymax - ymin)*height, edgecolor=color[classes], facecolor='none')\n",
    "\n",
    "        ax.add_patch(box)\n",
    "\n",
    "    plt.show()"
   ]
  },
  {
   "cell_type": "markdown",
   "metadata": {},
   "source": [
    "## Display 10 images \n",
    "\n",
    "Using the dataset created in the second cell and the function you just coded, display 10 random images with the associated bounding boxes. You can use the methods `take` and `shuffle` on the dataset."
   ]
  },
  {
   "cell_type": "code",
   "execution_count": null,
   "metadata": {},
   "outputs": [],
   "source": [
    "## STUDENT SOLUTION HERE\n",
    "# just display only 10 images in dataset\n",
    "for data in dataset.take(10):\n",
    "    display_instances(data)"
   ]
  },
  {
   "cell_type": "markdown",
   "metadata": {},
   "source": [
    "## Additional EDA\n",
    "\n",
    "In this last part, you are free to perform any additional analysis of the dataset. What else would like to know about the data?\n",
    "For example, think about data distribution. So far, you have only looked at a single file..."
   ]
  },
  {
   "cell_type": "code",
   "execution_count": null,
   "metadata": {},
   "outputs": [],
   "source": [
    "# I would like to know how much the number of car, pedestrian and cyclist in 10,000 images from the train file\n",
    "# counting the number of car, pedestrian and cyclist\n",
    "\n",
    "counting = {}\n",
    "\n",
    "for data in dataset.take(10000):\n",
    "    for i in range(len(data['groundtruth_classes'])):\n",
    "        gt_classes = data['groundtruth_classes'].numpy()\n",
    "\n",
    "        if gt_classes[i] in counting.keys():\n",
    "            counting[gt_classes[i]] += 1\n",
    "        else:\n",
    "            counting[gt_classes[i]] = 1\n",
    "\n",
    "counting"
   ]
  }
 ],
 "metadata": {
  "kernelspec": {
   "display_name": "Python 3.10.2 64-bit",
   "language": "python",
   "name": "python3"
  },
  "language_info": {
   "codemirror_mode": {
    "name": "ipython",
    "version": 3
   },
   "file_extension": ".py",
   "mimetype": "text/x-python",
   "name": "python",
   "nbconvert_exporter": "python",
   "pygments_lexer": "ipython3",
   "version": "3.10.2"
  },
  "vscode": {
   "interpreter": {
    "hash": "aee8b7b246df8f9039afb4144a1f6fd8d2ca17a180786b69acc140d282b71a49"
   }
  }
 },
 "nbformat": 4,
 "nbformat_minor": 4
}
